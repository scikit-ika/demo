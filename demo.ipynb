{
 "cells": [
  {
   "cell_type": "code",
   "execution_count": null,
   "metadata": {
    "slideshow": {
     "slide_type": "skip"
    }
   },
   "outputs": [],
   "source": [
    "!jt -t gruvboxd -T -nfs 10 -ofs 12\n",
    "# !jt -t gruvboxd -tfs 14 -nfs 115 -cellw 80% -T -cursc r -cursw 5 -dfs 8 -N\n",
    "# !jt -r"
   ]
  },
  {
   "cell_type": "code",
   "execution_count": null,
   "metadata": {
    "slideshow": {
     "slide_type": "skip"
    }
   },
   "outputs": [],
   "source": [
    "from IPython.core.display import HTML\n",
    "def css_styling():\n",
    "    styles = open(\"./styles/custom.css\", \"r\").read()\n",
    "    return HTML(styles)\n",
    "css_styling()"
   ]
  },
  {
   "cell_type": "markdown",
   "metadata": {
    "slideshow": {
     "slide_type": "slide"
    }
   },
   "source": [
    "## scikit-ika\n",
    "\n",
    "<center>\n",
    "<img src=\"img/ika-red.png\"  width=\"250\" height=\"250\">\n",
    "</center>\n",
    "\n",
    "A real-time adaptive predictive system for evolving data streams. [Homepage](https://scikit-ika.github.io)"
   ]
  },
  {
   "cell_type": "code",
   "execution_count": null,
   "metadata": {
    "slideshow": {
     "slide_type": "fragment"
    }
   },
   "outputs": [],
   "source": [
    "pip install scikit-ika"
   ]
  },
  {
   "cell_type": "code",
   "execution_count": null,
   "metadata": {
    "slideshow": {
     "slide_type": "fragment"
    }
   },
   "outputs": [],
   "source": [
    "import skika\n",
    "print(f\"Hello {skika.__name__}\")"
   ]
  },
  {
   "cell_type": "code",
   "execution_count": null,
   "metadata": {
    "slideshow": {
     "slide_type": "fragment"
    }
   },
   "outputs": [],
   "source": [
    "pip show -f scikit-ika"
   ]
  },
  {
   "cell_type": "markdown",
   "metadata": {
    "slideshow": {
     "slide_type": "slide"
    }
   },
   "source": [
    "## PEARL\n",
    "\n",
    "Probabilistic Exact Adaptive Random Forest with Lossy Counting"
   ]
  },
  {
   "cell_type": "markdown",
   "metadata": {
    "slideshow": {
     "slide_type": "slide"
    }
   },
   "source": [
    "`Data streams` are infinite sequences of items, with a temporal order.\n",
    "#### Problems with Data Streams\n",
    "* Stream data is large and fast, therefore we need to extract information in _real time_.\n",
    "* Stream data may be evolving, so our models have to adapt when there are _changes_ in the data."
   ]
  },
  {
   "cell_type": "markdown",
   "metadata": {
    "slideshow": {
     "slide_type": "slide"
    }
   },
   "source": [
    "### Concept Drift\n",
    "\n",
    "An example of concept drift\n",
    "\n",
    "<center>\n",
    "<img src=\"img/concept-drift-example.png\" height=800 width=800>\n",
    "</center>"
   ]
  },
  {
   "cell_type": "markdown",
   "metadata": {
    "slideshow": {
     "slide_type": "slide"
    }
   },
   "source": [
    "### Random Forest\n",
    "\n",
    "<center>\n",
    "<img src=\"img/random-forest.png\"  class=filter-invert width=\"500\" height=\"500\">\n",
    "</center>"
   ]
  },
  {
   "cell_type": "markdown",
   "metadata": {
    "slideshow": {
     "slide_type": "slide"
    }
   },
   "source": [
    "### State-of-the-Art: Adaptive Random Forest\n",
    "\n",
    "#### Foreground Trees\n",
    "\n",
    "Gets trained and participate in voting. Each tree has two _drift detectors_ for detecting drift warnings and actual drifts.\n",
    "\n",
    "#### Background Tree\n",
    "\n",
    "Start growing when a _drift warning_ is detected on a foreground tree. Replaces the foreground tree when an _actual drift_ is detected.\n"
   ]
  },
  {
   "cell_type": "markdown",
   "metadata": {
    "slideshow": {
     "slide_type": "slide"
    }
   },
   "source": [
    "### State-of-the-Art: Adaptive Random Forest\n",
    "\n",
    "<center>\n",
    "<img src=\"img/arf-example.png\"  class=filter-invert width=\"800\" height=\"800\">\n",
    "</center>"
   ]
  },
  {
   "cell_type": "markdown",
   "metadata": {
    "slideshow": {
     "slide_type": "slide"
    }
   },
   "source": [
    "## PEARL\n",
    "Foreground trees does not get discarded when they are replaced by their background tree. Instead they are stored in an _online tree repository_.\n",
    "\n",
    "The size of the online tree repository can be as large as your memory allows. A server computer with 125GB of memory can store about 62,000 trees (2MB each).\n",
    "\n",
    "Therefore we cannot evaluate all the repository trees to know which tree to replace the drifted foreground tree :("
   ]
  },
  {
   "cell_type": "markdown",
   "metadata": {
    "slideshow": {
     "slide_type": "slide"
    }
   },
   "source": [
    "#### Candidate Trees\n",
    "\n",
    "When drift warnings are detected, a subset of the trees are pulled out from the online repository and become candidate trees."
   ]
  },
  {
   "cell_type": "markdown",
   "metadata": {
    "slideshow": {
     "slide_type": "slide"
    }
   },
   "source": [
    "### PEARL Architecture"
   ]
  },
  {
   "cell_type": "markdown",
   "metadata": {
    "slideshow": {
     "slide_type": "-"
    }
   },
   "source": [
    "<center>\n",
    "<img src=\"img/architecture.svg\"  class=filter-invert width=\"1200\" height=\"1200\">\n",
    "</center>"
   ]
  },
  {
   "cell_type": "markdown",
   "metadata": {
    "slideshow": {
     "slide_type": "slide"
    }
   },
   "source": [
    "### State Matching Process\n",
    "\n",
    "Exact Pattern Matching\n",
    "\n",
    "<center><img src=\"img/pattern-matching.svg\"  class=filter-invert width=\"500\" height=\"500\"/></center>\n"
   ]
  },
  {
   "cell_type": "markdown",
   "metadata": {
    "slideshow": {
     "slide_type": "slide"
    }
   },
   "source": [
    "### Tree Transition Process\n",
    "\n",
    "#### Probabilistic Graphical Model"
   ]
  },
  {
   "cell_type": "markdown",
   "metadata": {
    "slideshow": {
     "slide_type": "-"
    }
   },
   "source": [
    "<center><img src=\"img/graph.svg\"  class=filter-invert width=\"800\" height=\"800\"/></center>"
   ]
  },
  {
   "cell_type": "markdown",
   "metadata": {
    "slideshow": {
     "slide_type": "slide"
    }
   },
   "source": [
    "### Lossy Counting\n",
    "\n",
    "The Lossy Counting algorithm computes _approximate frequency counts_ of elements in a data stream.\n",
    "\n",
    "Its key idea is _NOT_ to keep the items with _very low frequency_. This can mitigate the side effects from wrong tree transitions!"
   ]
  },
  {
   "cell_type": "markdown",
   "metadata": {
    "slideshow": {
     "slide_type": "fragment"
    }
   },
   "source": [
    "<center>\n",
    "<img src=\"img/lossy-count.svg\"  class=filter-invert width=\"1200\" height=\"1200\">\n",
    "</center>"
   ]
  },
  {
   "cell_type": "markdown",
   "metadata": {
    "slideshow": {
     "slide_type": "slide"
    }
   },
   "source": [
    "### Lossy Counting Guarantees\n",
    "\n",
    "$N$: the number of trees with drift warnings seen so far\n",
    "\n",
    "$\\epsilon \\in (0, 1)$: user specified error rate\n",
    "\n",
    "#### Error Guarantee\n",
    "\n",
    "Given window size = $\\frac{1}{\\epsilon}$\n",
    "        \n",
    "The edge weight count in the graph is underestimated by at most $\\epsilon N$, i.e., $\\frac{N}{window\\ size} = \\frac{N}{1/\\epsilon} = \\epsilon N$.\n",
    "\n",
    "\n",
    "#### Space Guarantee\n",
    "\n",
    "The graphical model introduces a polynomial space complexity.\n",
    "\n",
    "With Lossy Counting the space complexity is guaranteed to be reduced by $\\frac{1}{\\epsilon}\\log(\\epsilon N)$.\n"
   ]
  },
  {
   "cell_type": "markdown",
   "metadata": {
    "scrolled": true,
    "slideshow": {
     "slide_type": "skip"
    }
   },
   "source": [
    "### Case Study: Monitoring Gas Sensors"
   ]
  },
  {
   "cell_type": "markdown",
   "metadata": {
    "slideshow": {
     "slide_type": "skip"
    }
   },
   "source": [
    "#### Data Set Information\n",
    "\n",
    "* This dataset has recordings of a gas sensor array composed of 8 MOX gas sensors, and a temperature and humidity sensor.\n",
    "* This sensor array was exposed to background home activity while subject to two different stimuli: wine and banana.\n",
    "* Goal: discriminate among background, wine and banana."
   ]
  },
  {
   "cell_type": "markdown",
   "metadata": {
    "slideshow": {
     "slide_type": "slide"
    }
   },
   "source": [
    "### Case Study: Predicting Forest Cover Type"
   ]
  },
  {
   "cell_type": "markdown",
   "metadata": {
    "slideshow": {
     "slide_type": "-"
    }
   },
   "source": [
    "#### Data Set Information\n",
    "\n",
    "* Forest cover type is natural resource inventory information often economically or legally impossible to collect. Vital to any private, state, or federal land management agency.\n",
    "* Collected from four wilderness areas located in the Roosevelt National Forest of northern Colorado. \n",
    "* Contains variables such as wilderness areas and soil type."
   ]
  },
  {
   "cell_type": "code",
   "execution_count": null,
   "metadata": {
    "slideshow": {
     "slide_type": "skip"
    }
   },
   "outputs": [],
   "source": [
    "from pearl import pearl\n",
    "\n",
    "num_trees = 60\n",
    "max_num_candidate_trees = 120\n",
    "repo_size = 9000\n",
    "edit_distance_threshold = 90\n",
    "kappa_window = 50\n",
    "lossy_window_size = 100000000\n",
    "reuse_window_size = 0\n",
    "max_features = -1\n",
    "bg_kappa_threshold = 0\n",
    "cd_kappa_threshold = 0.4\n",
    "reuse_rate_upper_bound = 0.18\n",
    "warning_delta = 0.0001\n",
    "drift_delta = 0.00001\n",
    "enable_state_adaption = True\n",
    "enable_state_graph = True\n",
    "\n",
    "classifier = pearl(num_trees,\n",
    "              max_num_candidate_trees,\n",
    "              repo_size,\n",
    "              edit_distance_threshold,\n",
    "              kappa_window,\n",
    "              lossy_window_size,\n",
    "              reuse_window_size,\n",
    "              max_features,\n",
    "              bg_kappa_threshold,\n",
    "              cd_kappa_threshold,\n",
    "              reuse_rate_upper_bound,\n",
    "              warning_delta,\n",
    "              drift_delta,\n",
    "              enable_state_adaption,\n",
    "              enable_state_graph)\n",
    "\n",
    "print(\"pearl initialized\")\n",
    "\n",
    "enable_state_adaption = False\n",
    "enable_state_graph = False\n",
    "\n",
    "arf = pearl(num_trees,\n",
    "              max_num_candidate_trees,\n",
    "              repo_size,\n",
    "              edit_distance_threshold,\n",
    "              kappa_window,\n",
    "              lossy_window_size,\n",
    "              reuse_window_size,\n",
    "              max_features,\n",
    "              bg_kappa_threshold,\n",
    "              cd_kappa_threshold,\n",
    "              reuse_rate_upper_bound,\n",
    "              warning_delta,\n",
    "              drift_delta,\n",
    "              enable_state_adaption,\n",
    "              enable_state_graph)\n",
    "\n",
    "print(\"ARF initialized\")"
   ]
  },
  {
   "cell_type": "markdown",
   "metadata": {
    "slideshow": {
     "slide_type": "slide"
    }
   },
   "source": [
    "<center>\n",
    "<img src=\"img/ika-red.png\"  width=\"250\" height=\"250\">\n",
    "</center>"
   ]
  },
  {
   "cell_type": "code",
   "execution_count": null,
   "metadata": {
    "slideshow": {
     "slide_type": "fragment"
    }
   },
   "outputs": [],
   "source": [
    "%matplotlib notebook\n",
    "\n",
    "from matplotlib import pyplot as plt\n",
    "from matplotlib import animation\n",
    "from pearl import pearl\n",
    "\n",
    "\n",
    "class evaluate(object):\n",
    "\n",
    "    def __init__(self, enable_state_adaption=False, enable_state_graph=False):\n",
    "        self.accuracy = 0\n",
    "        self.num_instances = 0\n",
    "\n",
    "        num_trees = 60\n",
    "        max_num_candidate_trees = 120\n",
    "        repo_size = 9000\n",
    "        edit_distance_threshold = 90\n",
    "        kappa_window = 50\n",
    "        lossy_window_size = 100000000\n",
    "        reuse_window_size = 0\n",
    "        max_features = -1\n",
    "        bg_kappa_threshold = 0\n",
    "        cd_kappa_threshold = 0.4\n",
    "        reuse_rate_upper_bound = 0.18\n",
    "        warning_delta = 0.0001\n",
    "        drift_delta = 0.00001\n",
    "\n",
    "        self.classifier = pearl(num_trees,\n",
    "                          max_num_candidate_trees,\n",
    "                          repo_size,\n",
    "                          edit_distance_threshold,\n",
    "                          kappa_window,\n",
    "                          lossy_window_size,\n",
    "                          reuse_window_size,\n",
    "                          max_features,\n",
    "                          bg_kappa_threshold,\n",
    "                          cd_kappa_threshold,\n",
    "                          reuse_rate_upper_bound,\n",
    "                          warning_delta,\n",
    "                          drift_delta,\n",
    "                          enable_state_adaption,\n",
    "                          enable_state_graph)\n",
    "\n",
    "        self.classifier.init_data_source(\"data/covtype.arff\");\n",
    "\n",
    "    def __call__(self):\n",
    "\n",
    "        correct = 0\n",
    "\n",
    "        sample_freq = 1000\n",
    "\n",
    "        for count in range(0, sample_freq):\n",
    "            if not self.classifier.get_next_instance():\n",
    "                break\n",
    "\n",
    "            # test\n",
    "            prediction = self.classifier.predict()\n",
    "\n",
    "            actual_label = self.classifier.get_cur_instance_label()\n",
    "            if prediction == actual_label:\n",
    "                correct += 1\n",
    "\n",
    "            # train\n",
    "            self.classifier.train()\n",
    "\n",
    "            self.classifier.delete_cur_instance()\n",
    "\n",
    "        self.accuracy = correct / sample_freq\n",
    "        candidate_tree_size = self.classifier.get_candidate_tree_group_size()\n",
    "        tree_pool_size = self.classifier.get_tree_pool_size()\n",
    "\n",
    "        self.num_instances += 1000\n",
    "        return self.num_instances, self.accuracy\n",
    "\n",
    "arf = evaluate()\n",
    "pearl = evaluate(True, True)\n",
    "\n",
    "fig = plt.figure()\n",
    "\n",
    "x_arf = []\n",
    "y_arf = []\n",
    "x_pearl = []\n",
    "y_pearl = []\n",
    "\n",
    "max_samples = 580000\n",
    "\n",
    "def frames_arf():\n",
    "    for i in range(max_samples):\n",
    "        yield arf()\n",
    "\n",
    "def animate_arf(args):\n",
    "    x_arf.append(args[0])\n",
    "    y_arf.append(args[1])\n",
    "    return plt.plot(x_arf, y_arf, color='C0', linestyle='-', label='ARF')\n",
    "\n",
    "def frames_pearl():\n",
    "    for i in range(max_samples):\n",
    "        yield pearl()\n",
    "\n",
    "def animate_pearl(args):\n",
    "    x_pearl.append(args[0])\n",
    "    y_pearl.append(args[1])\n",
    "    return plt.plot(x_pearl, y_pearl, color='C1', linestyle='--', label='PEARL')\n",
    "\n",
    "anim_arf = animation.FuncAnimation(fig, animate_arf, frames=frames_arf, interval=1000)\n",
    "anim_pearl = animation.FuncAnimation(fig, animate_pearl, frames=frames_pearl, interval=1000)\n",
    "\n",
    "plt.xlabel('no. instances')\n",
    "plt.ylabel('accuracy')\n",
    "\n",
    "F = plt.gcf()\n",
    "Size = F.get_size_inches()\n",
    "F.set_size_inches(Size[0]*1.5, Size[1]*1, forward=True)\n",
    "plt.show()"
   ]
  },
  {
   "cell_type": "markdown",
   "metadata": {
    "slideshow": {
     "slide_type": "slide"
    }
   },
   "source": [
    "## Covtype Results"
   ]
  },
  {
   "cell_type": "markdown",
   "metadata": {
    "slideshow": {
     "slide_type": "-"
    }
   },
   "source": [
    "<center>\n",
    "<img src=\"img/covtype-results.svg\" class=\"filter-invert\" width=\"1200\" height=\"1200\">\n",
    "</center>"
   ]
  },
  {
   "cell_type": "markdown",
   "metadata": {
    "slideshow": {
     "slide_type": "slide"
    }
   },
   "source": [
    "### Utilizing Proactive Drift Detection (Ongoing)\n",
    "\n",
    "* PEARL selects candidate trees only when the drift occurs.\n",
    "* Building on PEARL, select candidate trees proactively in the online repository, before the next drift is detected."
   ]
  },
  {
   "cell_type": "markdown",
   "metadata": {
    "slideshow": {
     "slide_type": "slide"
    }
   },
   "source": [
    "# Questions\n",
    "\n",
    "<center>\n",
    "<img src=\"img/ika-red.png\"  width=\"250\" height=\"250\">\n",
    "</center>"
   ]
  }
 ],
 "metadata": {
  "celltoolbar": "Slideshow",
  "kernelspec": {
   "display_name": "Python 3",
   "language": "python",
   "name": "python3"
  },
  "language_info": {
   "codemirror_mode": {
    "name": "ipython",
    "version": 3
   },
   "file_extension": ".py",
   "mimetype": "text/x-python",
   "name": "python",
   "nbconvert_exporter": "python",
   "pygments_lexer": "ipython3",
   "version": "3.7.4"
  },
  "rise": {
   "scroll": true
  }
 },
 "nbformat": 4,
 "nbformat_minor": 4
}
